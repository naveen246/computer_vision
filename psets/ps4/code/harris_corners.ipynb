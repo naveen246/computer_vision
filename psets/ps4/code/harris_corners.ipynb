{
 "cells": [
  {
   "cell_type": "code",
   "execution_count": 1,
   "metadata": {},
   "outputs": [
    {
     "name": "stdout",
     "output_type": "stream",
     "text": [
      "Importing Jupyter notebook from util.ipynb\n"
     ]
    }
   ],
   "source": [
    "import cv2\n",
    "import numpy as np\n",
    "import nbimporter\n",
    "import util"
   ]
  },
  {
   "cell_type": "code",
   "execution_count": 6,
   "metadata": {},
   "outputs": [
    {
     "data": {
      "image/png": "[encoded data removed]",
      "text/plain": [
       "<matplotlib.figure.Figure at 0x11a18c908>"
      ]
     },
     "metadata": {},
     "output_type": "display_data"
    }
   ],
   "source": [
    "'''\n",
    "ref: http://aishack.in/tutorials/harris-corner-detector/\n",
    "\n",
    "'''\n",
    "\n",
    "img = util.read_img('harris_value.png')\n",
    "util.show_img(img, size=(5,5))"
   ]
  },
  {
   "cell_type": "code",
   "execution_count": 3,
   "metadata": {
    "collapsed": true
   },
   "outputs": [],
   "source": [
    "def harris_values(img, window_size=5, harris_scoring=0.04, norm=False):\n",
    "    # calculate image gradients on x and y dimensions\n",
    "    Ix = util.grad_x(img, 3)\n",
    "    Iy = util.grad_y(img, 3)\n",
    "    Ixx = Ix ** 2\n",
    "    Ixy = Ix * Iy\n",
    "    Iyx = Iy * Ix\n",
    "    Iyy = Iy ** 2\n",
    "    \n",
    "    # create the weight window matrix\n",
    "    c = np.zeros((window_size, window_size), dtype=np.float32);\n",
    "    c[window_size // 2, window_size // 2] = 1.0\n",
    "    w = cv2.GaussianBlur(c, (window_size, window_size), 0)\n",
    "    Rs = np.zeros(img.shape, dtype=np.float32)\n",
    "    \n",
    "    rows, cols = img.shape\n",
    "    for r in range(rows - window_size + 1):\n",
    "        rmax = r + window_size\n",
    "        for c in range(cols - window_size + 1):\n",
    "            cmax = c + window_size\n",
    "            I = [Ixx[r:rmax, c:cmax], Ixy[r:rmax, c:cmax], Iyx[r:rmax, c:cmax], Iyy[r:rmax, c:cmax]]\n",
    "            M = [np.sum(wI) for wI in w * I]\n",
    "            M = np.array(M).reshape((2,2))\n",
    "            Rs[r,c] = np.linalg.det(M) - harris_scoring * (M.trace() ** 2)\n",
    "    if norm:\n",
    "        Rs = cv2.normalize(Rs, Rs, alpha=0, beta=255,\n",
    "                           norm_type=cv2.NORM_MINMAX, dtype=cv2.CV_8U)\n",
    "    return Rs\n"
   ]
  },
  {
   "cell_type": "code",
   "execution_count": 4,
   "metadata": {
    "collapsed": true
   },
   "outputs": [],
   "source": [
    "def harris_corners(img, window_size=5, harris_scoring=0.04, threshold=1e-2, nms_size=10):\n",
    "    if len(img.shape) > 2:\n",
    "        img = cv2.cvtColor(img, cv2.COLOR_BGR2GRAY)\n",
    "    # calculate harris values for all valid pixels\n",
    "    Rs = harris_values(img, window_size, harris_scoring)\n",
    "    # apply thresholding, i.e keep values in Rs which satisy following conditions and all other elements to 0\n",
    "    Rs = Rs * (Rs > (threshold * Rs.max())) * (Rs > 0)\n",
    "    # apply non maximal suppression\n",
    "    rows, columns = np.nonzero(Rs)\n",
    "    new_Rs = np.zeros(Rs.shape)\n",
    "    for r,c in zip(rows, columns):\n",
    "        minr = max(0, r - nms_size // 2)\n",
    "        maxr = min(img.shape[0], minr + nms_size)\n",
    "        minc = max(0, c - nms_size // 2)\n",
    "        maxc = min(img.shape[1], minc + nms_size)\n",
    "        if Rs[r,c] == Rs[minr:maxr,minc:maxc].max():\n",
    "            new_Rs[r,c] = Rs[r,c]\n",
    "    return new_Rs"
   ]
  }
 ],
 "metadata": {
  "kernelspec": {
   "display_name": "Python 3",
   "language": "python",
   "name": "python3"
  },
  "language_info": {
   "codemirror_mode": {
    "name": "ipython",
    "version": 3
   },
   "file_extension": ".py",
   "mimetype": "text/x-python",
   "name": "python",
   "nbconvert_exporter": "python",
   "pygments_lexer": "ipython3",
   "version": "3.6.3"
  }
 },
 "nbformat": 4,
 "nbformat_minor": 2
}
