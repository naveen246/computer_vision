{
 "cells": [
  {
   "cell_type": "code",
   "execution_count": null,
   "metadata": {
    "collapsed": true
   },
   "outputs": [],
   "source": [
    "import cv2\n",
    "import numpy as np\n",
    "\n",
    "import nbimporter\n",
    "import util\n",
    "from harris_corners import *"
   ]
  },
  {
   "cell_type": "code",
   "execution_count": null,
   "metadata": {
    "collapsed": true
   },
   "outputs": [],
   "source": [
    "def get_keypoints(img, draw_keypoints=True):\n",
    "    if len(img) > 1:\n",
    "        gray = cv2.cvtColor(img, cv2.COLOR_BGR2GRAY).astype(np.float32)\n",
    "\n",
    "    # find harris corners -> keypoints\n",
    "    corners = cv2.cornerHarris(gray,2,3,0.04)\n",
    "    corners = cv2.normalize(corners, corners, alpha=0, beta=255,\n",
    "                       norm_type=cv2.NORM_MINMAX, dtype=cv2.CV_8U)\n",
    "    threshold=85\n",
    "    rows, cols = np.nonzero(corners > threshold)\n",
    "    # calculate the image gradients\n",
    "    Ix = util.grad_x(gray)\n",
    "    Iy = util.grad_y(gray)\n",
    "    O = util.grad_orientation(Ix, Iy)\n",
    "    # assign the keypoints\n",
    "    keypoints = []\n",
    "    for i in range(len(rows)):\n",
    "        r = rows[i]; c = cols[i]\n",
    "        kp = cv2.KeyPoint(c, r, _size=10, _angle=np.rad2deg(O[r,c]), _octave=0)\n",
    "        keypoints.append(kp)\n",
    "    # draw the keypoints on the image\n",
    "    if draw_keypoints:\n",
    "        cv2.drawKeypoints(img, keypoints, img,\n",
    "                          flags=cv2.DRAW_MATCHES_FLAGS_DRAW_RICH_KEYPOINTS)\n",
    "    return img, keypoints"
   ]
  },
  {
   "cell_type": "code",
   "execution_count": null,
   "metadata": {
    "collapsed": true
   },
   "outputs": [],
   "source": [
    "def get_matches(img1, img2):\n",
    "    img1_feat, kpts1 = get_keypoints(img1, draw_keypoints=False)\n",
    "    img2_feat, kpts2 = get_keypoints(img2, draw_keypoints=False)\n",
    "\n",
    "    # create sift instance\n",
    "    sift = cv2.xfeatures2d.SIFT_create()\n",
    "    # get descriptors\n",
    "    descriptors1 = sift.compute(img1, kpts1)[1]\n",
    "    descriptors2 = sift.compute(img2, kpts2)[1]\n",
    "\n",
    "    # get matches\n",
    "    bfm = cv2.BFMatcher(cv2.NORM_L2, crossCheck=True)\n",
    "    matches = bfm.match(descriptors1, descriptors2)\n",
    "    matches = sorted(matches, key = lambda x:x.distance)\n",
    "\n",
    "    return img1_feat, img2_feat, kpts1, kpts2, matches"
   ]
  },
  {
   "cell_type": "code",
   "execution_count": null,
   "metadata": {
    "collapsed": true
   },
   "outputs": [],
   "source": [
    "def draw_keypoints(img1, img2):\n",
    "    _,_,kpts1, kpts2, matches = get_matches(img1, img2)\n",
    "    matched_image = np.array([])\n",
    "    matched_image = cv2.drawMatches(img1, kpts1, img2, kpts2, matches[:10],\n",
    "                                    flags=2, outImg=matched_image)\n",
    "    return matched_image"
   ]
  }
 ],
 "metadata": {
  "kernelspec": {
   "display_name": "Python 3",
   "language": "python",
   "name": "python3"
  },
  "language_info": {
   "codemirror_mode": {
    "name": "ipython",
    "version": 3
   },
   "file_extension": ".py",
   "mimetype": "text/x-python",
   "name": "python",
   "nbconvert_exporter": "python",
   "pygments_lexer": "ipython3",
   "version": "3.6.3"
  }
 },
 "nbformat": 4,
 "nbformat_minor": 2
}
