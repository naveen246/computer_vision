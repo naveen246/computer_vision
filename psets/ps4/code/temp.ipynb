{
 "cells": [
  {
   "cell_type": "code",
   "execution_count": 1,
   "metadata": {},
   "outputs": [
    {
     "data": {
      "text/plain": [
       "['transA.jpg', 'simA.jpg']"
      ]
     },
     "execution_count": 1,
     "metadata": {},
     "output_type": "execute_result"
    }
   ],
   "source": [
    "imgs = ['transA.jpg', 'transB.jpg', 'simA.jpg', 'simB.jpg']\n",
    "imgs[0:3:2]"
   ]
  },
  {
   "cell_type": "code",
   "execution_count": 10,
   "metadata": {},
   "outputs": [
    {
     "name": "stdout",
     "output_type": "stream",
     "text": [
      "[[ 0.  0.  0.  0.  0.]\n",
      " [ 0.  0.  0.  0.  0.]\n",
      " [ 0.  0.  0.  0.  0.]\n",
      " [ 0.  0.  0.  0.  0.]\n",
      " [ 0.  0.  0.  0.  0.]]\n",
      "[[ 0.  0.  0.  0.  0.]\n",
      " [ 0.  0.  0.  0.  0.]\n",
      " [ 0.  0.  1.  0.  0.]\n",
      " [ 0.  0.  0.  0.  0.]\n",
      " [ 0.  0.  0.  0.  0.]]\n",
      "[[ 0.015625  0.03125   0.046875  0.03125   0.015625]\n",
      " [ 0.03125   0.0625    0.09375   0.0625    0.03125 ]\n",
      " [ 0.046875  0.09375   0.140625  0.09375   0.046875]\n",
      " [ 0.03125   0.0625    0.09375   0.0625    0.03125 ]\n",
      " [ 0.015625  0.03125   0.046875  0.03125   0.015625]]\n",
      "5 5\n"
     ]
    }
   ],
   "source": [
    "import numpy as np\n",
    "import cv2\n",
    "window_size = 5\n",
    "c = np.zeros((window_size, window_size), dtype=np.float32);\n",
    "window_size_half = window_size // 2\n",
    "print(c)\n",
    "c[window_size_half, window_size_half] = 1.0\n",
    "print(c)\n",
    "\n",
    "w = cv2.GaussianBlur(c, (window_size,)*2, 0)\n",
    "print(w)\n",
    "a, b = w.shape\n",
    "print(a, b)"
   ]
  },
  {
   "cell_type": "code",
   "execution_count": 40,
   "metadata": {},
   "outputs": [
    {
     "name": "stdout",
     "output_type": "stream",
     "text": [
      "[[[2 4]\n",
      "  [4 2]]\n",
      "\n",
      " [[6 8]\n",
      "  [8 6]]]\n"
     ]
    },
    {
     "data": {
      "text/plain": [
       "0.01"
      ]
     },
     "execution_count": 40,
     "metadata": {},
     "output_type": "execute_result"
    }
   ],
   "source": [
    "a = np.array([[1,2], [2,1]])\n",
    "b = np.array([[3,4], [4,3]])\n",
    "c = np.array([a,b])\n",
    "d = np.array([[2,2], [2,2]])\n",
    "print(d*c)\n",
    "# np.asarray(map(np.sum, d*c))\n",
    "np.asarray([np.sum(l) for l in d*c])\n",
    "\n",
    "a * (a > 1)\n",
    "1e-2"
   ]
  }
 ],
 "metadata": {
  "kernelspec": {
   "display_name": "Python 3",
   "language": "python",
   "name": "python3"
  },
  "language_info": {
   "codemirror_mode": {
    "name": "ipython",
    "version": 3
   },
   "file_extension": ".py",
   "mimetype": "text/x-python",
   "name": "python",
   "nbconvert_exporter": "python",
   "pygments_lexer": "ipython3",
   "version": "3.6.3"
  }
 },
 "nbformat": 4,
 "nbformat_minor": 2
}
