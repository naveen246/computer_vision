{
 "cells": [
  {
   "cell_type": "code",
   "execution_count": null,
   "metadata": {
    "collapsed": true
   },
   "outputs": [],
   "source": [
    "import numpy as np\n",
    "import cv2"
   ]
  },
  {
   "cell_type": "code",
   "execution_count": null,
   "metadata": {
    "collapsed": true
   },
   "outputs": [],
   "source": [
    "def disparity_ncorr(L, R):\n",
    "    \"\"\"Compute disparity map D(y, x) such that: L(y, x) = R(y, x + D(y, x))\n",
    "    \n",
    "    Params:\n",
    "    L: Grayscale left image\n",
    "    R: Grayscale right image, same size as L\n",
    "\n",
    "    Returns: Disparity map, same size as L, R\n",
    "    \"\"\"\n",
    "\n",
    "    # TODO: Your code here\n"
   ]
  }
 ],
 "metadata": {
  "kernelspec": {
   "display_name": "Python 3",
   "language": "python",
   "name": "python3"
  },
  "language_info": {
   "codemirror_mode": {
    "name": "ipython",
    "version": 3
   },
   "file_extension": ".py",
   "mimetype": "text/x-python",
   "name": "python",
   "nbconvert_exporter": "python",
   "pygments_lexer": "ipython3",
   "version": "3.6.3"
  }
 },
 "nbformat": 4,
 "nbformat_minor": 2
}
