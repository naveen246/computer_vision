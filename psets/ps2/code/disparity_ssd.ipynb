{
 "cells": [
  {
   "cell_type": "code",
   "execution_count": 1,
   "metadata": {
    "collapsed": true
   },
   "outputs": [],
   "source": [
    "import cv2\n",
    "import numpy as np"
   ]
  },
  {
   "cell_type": "code",
   "execution_count": 2,
   "metadata": {
    "collapsed": true
   },
   "outputs": [],
   "source": [
    "def ssd_naive(strip, template):\n",
    "    template_cols = template.shape[1]\n",
    "    strip_cols = strip.shape[1]\n",
    "    s = np.zeros(strip_cols - template_cols + 1)\n",
    "    for i in range(strip_cols - template_cols + 1):\n",
    "        s[i] = np.sum((template - strip[:, i:i+template_cols]) ** 2)\n",
    "    return s[None,:]\n",
    "                      \n",
    "\n",
    "def disparity_ssd(L, R, template_size=5, disparity_range=100):\n",
    "    \"\"\"Compute disparity map D(y, x) such that: L(y, x) = R(y, x + D(y, x))\n",
    "    \n",
    "    Params:\n",
    "    L: Grayscale left image\n",
    "    R: Grayscale right image, same size as L\n",
    "\n",
    "    Returns: Disparity map, same size as L, R\n",
    "    \"\"\"\n",
    "    \n",
    "    image_rows, image_cols = L.shape\n",
    "    D = np.zeros(L.shape)\n",
    "    \n",
    "    for row in np.arange(image_rows - template_size + 1):     \n",
    "        for col in np.arange(image_cols - template_size + 1):\n",
    "            row_max = row + template_size\n",
    "            col_max = col + template_size\n",
    "            template = L[row:row_max, col:col_max].astype(np.float32)\n",
    "            col_mid = (col + col_max) / 2\n",
    "            strip_col_min = int(max(col_mid - disparity_range/2, 0))\n",
    "            strip_col_max = int(min(col_mid + disparity_range/2, image_cols))\n",
    "            R_strip = R[row:row_max, strip_col_min:strip_col_max].astype(np.float32)\n",
    "            # cost = ssd_naive(R_strip, template) # slow\n",
    "            cost = cv2.matchTemplate(R_strip, template, method=cv2.TM_SQDIFF_NORMED)\n",
    "            min_val, max_val, min_loc, max_loc = cv2.minMaxLoc(cost)\n",
    "            R_match_col = strip_col_min + min_loc[0]\n",
    "            D[row, col] = R_match_col - col\n",
    "            \n",
    "    return D"
   ]
  }
 ],
 "metadata": {
  "kernelspec": {
   "display_name": "Python 3",
   "language": "python",
   "name": "python3"
  },
  "language_info": {
   "codemirror_mode": {
    "name": "ipython",
    "version": 3
   },
   "file_extension": ".py",
   "mimetype": "text/x-python",
   "name": "python",
   "nbconvert_exporter": "python",
   "pygments_lexer": "ipython3",
   "version": "3.6.3"
  }
 },
 "nbformat": 4,
 "nbformat_minor": 2
}
