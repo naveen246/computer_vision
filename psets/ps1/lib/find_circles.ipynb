{
 "cells": [
  {
   "cell_type": "code",
   "execution_count": null,
   "metadata": {
    "collapsed": true
   },
   "outputs": [],
   "source": [
    "import numpy as np\n",
    "import cv2\n",
    "import nbimporter\n",
    "import lib.util as util\n",
    "from lib.hough_circles_acc import *\n",
    "from lib.hough_peaks import *"
   ]
  },
  {
   "cell_type": "code",
   "execution_count": null,
   "metadata": {
    "collapsed": true
   },
   "outputs": [],
   "source": [
    "def find_circles(edge_img, radius_range=[1,2], threshold=100, nhood_size=10):\n",
    "    n = radius_range[1] - radius_range[0]\n",
    "    H_size = (n,) + edge_img.shape\n",
    "    H = np.zeros(H_size, dtype=np.uint)\n",
    "    centers = ()\n",
    "    radii = np.arange(radius_range[0], radius_range[1])\n",
    "    valid_radii = np.array([], dtype=np.uint)\n",
    "    num_circles = 0\n",
    "    \n",
    "    for i in range(len(radii)):\n",
    "        H[i] = hough_circles_acc(edge_img, radii[i])\n",
    "        peaks = hough_peaks(H[i], numpeaks=10, threshold=threshold, nhood_size=nhood_size)\n",
    "        if peaks.shape[0]:\n",
    "            valid_radii = np.append(valid_radii, radii[i])\n",
    "            centers = centers + (peaks,)\n",
    "            for peak in peaks:\n",
    "                cv2.circle(edge_img, tuple(peak[::-1]), radii[i]+1, (0,0,0), -1)\n",
    "        num_circles += peaks.shape[0]\n",
    "        print('Progress: %d%% - Circles: %d\\033[F\\r'%(100*i/len(radii), num_circles))\n",
    "        \n",
    "    centers = np.array(centers)\n",
    "    return centers, valid_radii.astype(np.uint)"
   ]
  }
 ],
 "metadata": {
  "kernelspec": {
   "display_name": "Python 3",
   "language": "python",
   "name": "python3"
  },
  "language_info": {
   "codemirror_mode": {
    "name": "ipython",
    "version": 3
   },
   "file_extension": ".py",
   "mimetype": "text/x-python",
   "name": "python",
   "nbconvert_exporter": "python",
   "pygments_lexer": "ipython3",
   "version": "3.6.3"
  }
 },
 "nbformat": 4,
 "nbformat_minor": 2
}
