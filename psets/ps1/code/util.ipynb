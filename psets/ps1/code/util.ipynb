{
 "cells": [
  {
   "cell_type": "code",
   "execution_count": 1,
   "metadata": {
    "collapsed": true
   },
   "outputs": [],
   "source": [
    "import numpy as np\n",
    "import cv2\n",
    "from matplotlib import pyplot as plt\n",
    "\n",
    "%matplotlib inline"
   ]
  },
  {
   "cell_type": "code",
   "execution_count": 2,
   "metadata": {
    "collapsed": true
   },
   "outputs": [],
   "source": [
    "def read_img(img, read_mode = cv2.IMREAD_COLOR):\n",
    "    return cv2.imread('../input/' + img, read_mode)\n",
    "\n",
    "def read_img_gray_mode(img):\n",
    "    return read_img(img, cv2.IMREAD_GRAYSCALE)\n",
    "\n",
    "def write_img(filename, img):\n",
    "    cv2.imwrite('../output/' + filename, img)\n",
    "    \n",
    "def imshow(img):\n",
    "    plt.axis(\"off\")\n",
    "    if len(img.shape) > 2:\n",
    "        plt.imshow(cv2.cvtColor(img, cv2.COLOR_BGR2RGB))\n",
    "    else:\n",
    "        plt.imshow(img)\n",
    "        \n",
    "def show_img(img):\n",
    "    imshow(img)\n",
    "    plt.show()\n",
    "    \n",
    "def show_images_together(img1, img2):\n",
    "    plt.subplot(121), imshow(img1)\n",
    "    plt.subplot(122), imshow(img2)\n",
    "    plt.tight_layout()\n",
    "    plt.show()\n",
    "    \n",
    "def monochrome(img, color):\n",
    "    color_index = {'b': 0, 'g': 1, 'r': 2}\n",
    "    return img[:,:,color_index[color]].copy()\n",
    "\n",
    "def add_noise_to_channel(img, color = 'g', noise_sigma = 1):\n",
    "    noise = np.random.normal(scale = noise_sigma, size = img[:,:,0].shape).astype('uint8')\n",
    "    color_index = {'b': 0, 'g': 1, 'r': 2}\n",
    "    img_new = img.copy()\n",
    "    img_new[:,:,color_index[color]] += noise\n",
    "    return img_new\n",
    "\n",
    "def shift_img(img, shift_x, shift_y):\n",
    "    M = np.float32([[1, 0, shift_x], [0, 1, shift_y]])\n",
    "    img_new = cv2.warpAffine(img, M, img.shape[::-1])\n",
    "    return img_new\n",
    "\n",
    "def img_diag_len(img):\n",
    "    height, width = img.shape[0], img.shape[1]\n",
    "    diag_len = np.sqrt(height * height + width * width)\n",
    "    return int(np.ceil(diag_len))\n"
   ]
  }
 ],
 "metadata": {
  "kernelspec": {
   "display_name": "Python 3",
   "language": "python",
   "name": "python3"
  },
  "language_info": {
   "codemirror_mode": {
    "name": "ipython",
    "version": 3
   },
   "file_extension": ".py",
   "mimetype": "text/x-python",
   "name": "python",
   "nbconvert_exporter": "python",
   "pygments_lexer": "ipython3",
   "version": "3.6.3"
  }
 },
 "nbformat": 4,
 "nbformat_minor": 2
}
