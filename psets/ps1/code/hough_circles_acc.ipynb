{
 "cells": [
  {
   "cell_type": "code",
   "execution_count": null,
   "metadata": {
    "collapsed": true
   },
   "outputs": [],
   "source": [
    "import numpy as np\n",
    "import cv2\n",
    "import nbimporter"
   ]
  },
  {
   "cell_type": "code",
   "execution_count": null,
   "metadata": {
    "collapsed": true
   },
   "outputs": [],
   "source": [
    "def bound(value, min, max):\n",
    "    if value < min: return min\n",
    "    if value >= max: return max - 1\n",
    "    return value\n",
    "\n",
    "def hough_circles_acc(img, R):\n",
    "    img_nonzeros = np.transpose(np.nonzero(img))\n",
    "    H = np.zeros(img.shape)\n",
    "    thetas = np.deg2rad(np.arange(0, 360))\n",
    "    cos_t = np.cos(thetas)\n",
    "    sin_t = np.sin(thetas)\n",
    "    \n",
    "    for y, x in img_nonzeros:\n",
    "        a = (x - (R * cos_t)).astype(int)\n",
    "        b = (y - (R * sin_t)).astype(int)\n",
    "        for i in range(len(a)):\n",
    "            b[i] = bound(b[i], 0, H.shape[0])\n",
    "            a[i] = bound(a[i], 0, H.shape[1])\n",
    "            H[b[i], a[i]] += 1\n",
    "    \n",
    "    cv2.normalize(H, H, 0, 255, cv2.NORM_MINMAX, dtype=cv2.CV_8UC1)\n",
    "    return H"
   ]
  },
  {
   "cell_type": "code",
   "execution_count": null,
   "metadata": {
    "collapsed": true
   },
   "outputs": [],
   "source": []
  }
 ],
 "metadata": {
  "kernelspec": {
   "display_name": "Python 3",
   "language": "python",
   "name": "python3"
  },
  "language_info": {
   "codemirror_mode": {
    "name": "ipython",
    "version": 3
   },
   "file_extension": ".py",
   "mimetype": "text/x-python",
   "name": "python",
   "nbconvert_exporter": "python",
   "pygments_lexer": "ipython3",
   "version": "3.6.3"
  }
 },
 "nbformat": 4,
 "nbformat_minor": 2
}
