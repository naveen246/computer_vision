{
 "cells": [
  {
   "cell_type": "code",
   "execution_count": 1,
   "metadata": {},
   "outputs": [
    {
     "name": "stdout",
     "output_type": "stream",
     "text": [
      "Importing Jupyter notebook from util.ipynb\n"
     ]
    }
   ],
   "source": [
    "import cv2\n",
    "import numpy as np\n",
    "import nbimporter\n",
    "import util"
   ]
  },
  {
   "cell_type": "code",
   "execution_count": 2,
   "metadata": {
    "collapsed": true
   },
   "outputs": [],
   "source": [
    "def hough_lines_draw(img, filename, peaks, rhos, thetas, bgr = (0,255,0)):\n",
    "    for peak in peaks:\n",
    "        rho = rhos[peak[0]]\n",
    "        theta = thetas[peak[1]]\n",
    "        line_size = util.img_diag_len(img)\n",
    "    \n",
    "        cos_t, sin_t = np.cos(theta), np.sin(theta)\n",
    "        pt_0 = np.array([rho * cos_t, rho * sin_t])\n",
    "        pt_1 = np.array([-line_size * sin_t, line_size * cos_t])\n",
    "        pt1 = tuple((pt_0 + pt_1).astype(int))\n",
    "        pt2 = tuple((pt_0 - pt_1).astype(int))\n",
    "        cv2.line(img, pt1, pt2, bgr, 2)\n",
    "\n",
    "    util.write_img(filename, img)\n",
    "    return img"
   ]
  }
 ],
 "metadata": {
  "kernelspec": {
   "display_name": "Python 3",
   "language": "python",
   "name": "python3"
  },
  "language_info": {
   "codemirror_mode": {
    "name": "ipython",
    "version": 3
   },
   "file_extension": ".py",
   "mimetype": "text/x-python",
   "name": "python",
   "nbconvert_exporter": "python",
   "pygments_lexer": "ipython3",
   "version": "3.6.3"
  }
 },
 "nbformat": 4,
 "nbformat_minor": 2
}
