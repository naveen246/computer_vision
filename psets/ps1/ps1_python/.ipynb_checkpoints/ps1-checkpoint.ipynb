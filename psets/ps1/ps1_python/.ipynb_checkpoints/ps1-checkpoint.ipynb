{
 "cells": [
  {
   "cell_type": "code",
   "execution_count": 1,
   "metadata": {},
   "outputs": [
    {
     "name": "stdout",
     "output_type": "stream",
     "text": [
      "Importing Jupyter notebook from util.ipynb\n",
      "Importing Jupyter notebook from hough_lines_acc.ipynb\n",
      "Importing Jupyter notebook from hough_peaks.ipynb\n",
      "Importing Jupyter notebook from hough_lines_draw.ipynb\n"
     ]
    }
   ],
   "source": [
    "import nbimporter\n",
    "import util\n",
    "import cv2\n",
    "import numpy as np\n",
    "from hough_lines_acc import hough_lines_acc\n",
    "from hough_peaks import hough_peaks\n",
    "from hough_lines_draw import hough_lines_draw"
   ]
  },
  {
   "cell_type": "code",
   "execution_count": 2,
   "metadata": {},
   "outputs": [
    {
     "data": {
      "image/png": "[encoded data removed]",
      "text/plain": [
       "<matplotlib.figure.Figure at 0x10f20ae80>"
      ]
     },
     "metadata": {},
     "output_type": "display_data"
    }
   ],
   "source": [
    "img = util.read_img('ps1-input0.png')\n",
    "img_edges = cv2.Canny(img, 0, 0)\n",
    "util.write_img('ps1-1-a-1.png', img_edges)\n",
    "\n",
    "util.show_images_together(img, img_edges)"
   ]
  },
  {
   "cell_type": "code",
   "execution_count": 3,
   "metadata": {},
   "outputs": [
    {
     "data": {
      "image/png": "[encoded data removed]",
      "text/plain": [
       "<matplotlib.figure.Figure at 0x117f640b8>"
      ]
     },
     "metadata": {},
     "output_type": "display_data"
    },
    {
     "data": {
      "image/png": "[encoded data removed]",
      "text/plain": [
       "<matplotlib.figure.Figure at 0x11815b898>"
      ]
     },
     "metadata": {},
     "output_type": "display_data"
    }
   ],
   "source": [
    "H, rho, theta = hough_lines_acc(img_edges)\n",
    "\n",
    "def normalize_accumulator(acc, normalized_min, normalized_max):\n",
    "    min_val = np.amin(acc)\n",
    "    max_val = np.amax(acc)\n",
    "    acc_range = max_val - min_val\n",
    "    if acc_range == 0: return acc\n",
    "    normalized_range = normalized_max - normalized_min\n",
    "    return normalized_min + (acc - min_val) * normalized_range / acc_range\n",
    "    \n",
    "normal_hough_acc = normalize_accumulator(H, 0, 255).astype('uint8')\n",
    "util.write_img('ps1-2-a-1.png', normal_hough_acc)\n",
    "\n",
    "def highlight_hough_peaks(normal_hough_acc, peaks):\n",
    "    highlight_peaks = normal_hough_acc.copy()\n",
    "    for peak in peaks:\n",
    "        row, col = peak\n",
    "        cv2.circle(highlight_peaks, (col, row), 5, (255,255,255), -1)\n",
    "    return highlight_peaks\n",
    "\n",
    "peaks = hough_peaks(normal_hough_acc, 10);\n",
    "highlight_peaks = highlight_hough_peaks(normal_hough_acc, peaks)\n",
    "util.write_img('ps1-2-b-1.png', highlight_peaks)\n",
    "\n",
    "util.show_images_together(normal_hough_acc, highlight_peaks)\n",
    "\n",
    "img_edge_colored = hough_lines_draw(img, 'ps1-2-c-1.png', peaks, rho, theta)\n",
    "util.show_img(img_edge_colored)"
   ]
  },
  {
   "cell_type": "code",
   "execution_count": null,
   "metadata": {},
   "outputs": [],
   "source": []
  }
 ],
 "metadata": {
  "kernelspec": {
   "display_name": "Python 3",
   "language": "python",
   "name": "python3"
  },
  "language_info": {
   "codemirror_mode": {
    "name": "ipython",
    "version": 3
   },
   "file_extension": ".py",
   "mimetype": "text/x-python",
   "name": "python",
   "nbconvert_exporter": "python",
   "pygments_lexer": "ipython3",
   "version": "3.6.3"
  }
 },
 "nbformat": 4,
 "nbformat_minor": 2
}
