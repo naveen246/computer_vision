{
 "cells": [
  {
   "cell_type": "code",
   "execution_count": 1,
   "metadata": {},
   "outputs": [
    {
     "name": "stdout",
     "output_type": "stream",
     "text": [
      "Importing Jupyter notebook from util.ipynb\n",
      "Importing Jupyter notebook from hough_lines_acc.ipynb\n",
      "Importing Jupyter notebook from hough_peaks.ipynb\n",
      "Importing Jupyter notebook from hough_lines_draw.ipynb\n"
     ]
    }
   ],
   "source": [
    "import nbimporter\n",
    "import util\n",
    "import cv2\n",
    "import numpy as np\n",
    "from hough_lines_acc import hough_lines_acc\n",
    "from hough_peaks import hough_peaks\n",
    "from hough_lines_draw import hough_lines_draw"
   ]
  },
  {
   "cell_type": "code",
   "execution_count": 2,
   "metadata": {},
   "outputs": [
    {
     "data": {
      "image/png": "[encoded data removed]",
      "text/plain": [
       "<matplotlib.figure.Figure at 0x10c31e1d0>"
      ]
     },
     "metadata": {},
     "output_type": "display_data"
    }
   ],
   "source": [
    "# 1\n",
    "\n",
    "img = util.read_img('ps1-input0.png')\n",
    "img_edges = cv2.Canny(img, 0, 0)\n",
    "util.write_img('ps1-1-a-1.png', img_edges)\n",
    "\n",
    "util.show_images_together(img, img_edges)"
   ]
  },
  {
   "cell_type": "code",
   "execution_count": 3,
   "metadata": {},
   "outputs": [
    {
     "ename": "NameError",
     "evalue": "name 'normal_hough_acc' is not defined",
     "output_type": "error",
     "traceback": [
      "\u001b[0;31m---------------------------------------------------------------------------\u001b[0m",
      "\u001b[0;31mNameError\u001b[0m                                 Traceback (most recent call last)",
      "\u001b[0;32m<ipython-input-3-506be93d3d69>\u001b[0m in \u001b[0;36m<module>\u001b[0;34m()\u001b[0m\n\u001b[1;32m     11\u001b[0m \u001b[0mpeaks\u001b[0m \u001b[0;34m=\u001b[0m \u001b[0mhough_peaks\u001b[0m\u001b[0;34m(\u001b[0m\u001b[0mH\u001b[0m\u001b[0;34m,\u001b[0m \u001b[0;36m10\u001b[0m\u001b[0;34m)\u001b[0m\u001b[0;34m;\u001b[0m\u001b[0;34m\u001b[0m\u001b[0m\n\u001b[1;32m     12\u001b[0m \u001b[0mhighlight_peaks\u001b[0m \u001b[0;34m=\u001b[0m \u001b[0mhighlight_hough_peaks\u001b[0m\u001b[0;34m(\u001b[0m\u001b[0mH\u001b[0m\u001b[0;34m,\u001b[0m \u001b[0mpeaks\u001b[0m\u001b[0;34m)\u001b[0m\u001b[0;34m\u001b[0m\u001b[0m\n\u001b[0;32m---> 13\u001b[0;31m \u001b[0mutil\u001b[0m\u001b[0;34m.\u001b[0m\u001b[0mwrite_img\u001b[0m\u001b[0;34m(\u001b[0m\u001b[0;34m'ps1-2-a-1.png'\u001b[0m\u001b[0;34m,\u001b[0m \u001b[0mnormal_hough_acc\u001b[0m\u001b[0;34m)\u001b[0m\u001b[0;34m\u001b[0m\u001b[0m\n\u001b[0m\u001b[1;32m     14\u001b[0m \u001b[0mutil\u001b[0m\u001b[0;34m.\u001b[0m\u001b[0mwrite_img\u001b[0m\u001b[0;34m(\u001b[0m\u001b[0;34m'ps1-2-b-1.png'\u001b[0m\u001b[0;34m,\u001b[0m \u001b[0mhighlight_peaks\u001b[0m\u001b[0;34m)\u001b[0m\u001b[0;34m\u001b[0m\u001b[0m\n\u001b[1;32m     15\u001b[0m \u001b[0;34m\u001b[0m\u001b[0m\n",
      "\u001b[0;31mNameError\u001b[0m: name 'normal_hough_acc' is not defined"
     ]
    }
   ],
   "source": [
    "# 2\n",
    "\n",
    "def highlight_hough_peaks(H, peaks):\n",
    "    highlight_peaks = H.copy()\n",
    "    for peak in peaks:\n",
    "        row, col = peak\n",
    "        cv2.circle(highlight_peaks, (col, row), 5, (255,255,255), -1)\n",
    "    return highlight_peaks\n",
    "\n",
    "H, rho, theta = hough_lines_acc(img_edges)\n",
    "peaks = hough_peaks(H, 10);\n",
    "highlight_peaks = highlight_hough_peaks(H, peaks)\n",
    "util.write_img('ps1-2-a-1.png', H)\n",
    "util.write_img('ps1-2-b-1.png', highlight_peaks)\n",
    "\n",
    "util.show_images_together(H, highlight_peaks)\n",
    "\n",
    "img_edge_colored = hough_lines_draw(img, 'ps1-2-c-1.png', peaks, rho, theta)\n",
    "util.show_img(img_edge_colored)"
   ]
  },
  {
   "cell_type": "code",
   "execution_count": null,
   "metadata": {},
   "outputs": [],
   "source": [
    "# 3\n",
    "\n",
    "noisy_img = util.read_img('ps1-input0-noise.png')\n",
    "smooth_img = cv2.GaussianBlur(noisy_img, (23, 23), 5)\n",
    "util.write_img('ps1-3-a-1.png', smooth_img)\n",
    "\n",
    "util.show_images_together(noisy_img, smooth_img)\n",
    "\n",
    "noisy_edge_img = cv2.Canny(noisy_img, 20, 40)\n",
    "smooth_edge_img = cv2.Canny(smooth_img, 20, 40)\n",
    "util.write_img('ps1-3-b-1.png', noisy_edge_img)\n",
    "util.write_img('ps1-3-b-2.png', smooth_edge_img)\n",
    "\n",
    "util.show_images_together(noisy_edge_img, smooth_edge_img)\n",
    "\n",
    "H, rho, theta = hough_lines_acc(smooth_edge_img)\n",
    "peaks = hough_peaks(H, 10);\n",
    "highlight_peaks = highlight_hough_peaks(H, peaks)\n",
    "util.write_img('ps1-3-c-1.png', highlight_peaks)\n",
    "\n",
    "util.show_images_together(H, highlight_peaks)\n",
    "img_edge_colored = hough_lines_draw(noisy_img, 'ps1-3-c-2.png', peaks, rho, theta)\n",
    "util.show_img(img_edge_colored)"
   ]
  },
  {
   "cell_type": "code",
   "execution_count": null,
   "metadata": {},
   "outputs": [],
   "source": [
    "# 4\n",
    "\n",
    "img = util.read_img_gray_mode('ps1-input1.png')\n",
    "smooth_img = cv2.GaussianBlur(img, (25, 25), 0)\n",
    "util.write_img('ps1-4-a-1.png', smooth_img)\n",
    "\n",
    "util.show_images_together(img, smooth_img)\n",
    "smooth_edge_img = cv2.Canny(smooth_img, 20, 40, 0.8)\n",
    "util.write_img('ps1-4-b-1.png', smooth_edge_img)\n",
    "\n",
    "H, rho, theta = hough_lines_acc(smooth_edge_img)\n",
    "peaks = hough_peaks(H, 10, threshold=40, nhood_size=20);\n",
    "print(peaks)\n",
    "highlight_peaks = highlight_hough_peaks(H, peaks)\n",
    "util.write_img('ps1-4-c-1.png', highlight_peaks)\n",
    "\n",
    "util.show_images_together(H, highlight_peaks)\n",
    "img_edge_colored = hough_lines_draw(img, 'ps1-4-c-2.png', peaks, rho, theta, (255,255,255))\n",
    "util.show_images_together(smooth_edge_img, img_edge_colored)\n"
   ]
  },
  {
   "cell_type": "code",
   "execution_count": null,
   "metadata": {
    "collapsed": true
   },
   "outputs": [],
   "source": []
  }
 ],
 "metadata": {
  "kernelspec": {
   "display_name": "Python 3",
   "language": "python",
   "name": "python3"
  },
  "language_info": {
   "codemirror_mode": {
    "name": "ipython",
    "version": 3
   },
   "file_extension": ".py",
   "mimetype": "text/x-python",
   "name": "python",
   "nbconvert_exporter": "python",
   "pygments_lexer": "ipython3",
   "version": "3.6.3"
  }
 },
 "nbformat": 4,
 "nbformat_minor": 2
}
