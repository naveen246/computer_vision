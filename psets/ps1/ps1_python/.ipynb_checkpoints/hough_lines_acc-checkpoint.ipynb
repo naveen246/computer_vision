{
 "cells": [
  {
   "cell_type": "code",
   "execution_count": 1,
   "metadata": {},
   "outputs": [
    {
     "name": "stdout",
     "output_type": "stream",
     "text": [
      "Importing Jupyter notebook from util.ipynb\n"
     ]
    }
   ],
   "source": [
    "import numpy as np\n",
    "import cv2\n",
    "import nbimporter\n",
    "import util"
   ]
  },
  {
   "cell_type": "code",
   "execution_count": 2,
   "metadata": {
    "collapsed": true
   },
   "outputs": [],
   "source": [
    "def hough_lines_acc(img, theta = range(-90, 90), rho_resolution = 1):\n",
    "    diag_len = util.img_diag_len(img)\n",
    "    rhos = np.arange(-diag_len, diag_len, rho_resolution)\n",
    "    thetas = np.deg2rad(theta)\n",
    "    H = np.zeros((len(rhos), len(thetas)))\n",
    "    \n",
    "    cos_t = np.cos(thetas)\n",
    "    sin_t = np.sin(thetas)\n",
    "    img_nonzeros = np.transpose(np.nonzero(img))\n",
    "    \n",
    "    for x, y in img_nonzeros:\n",
    "        rho = (np.round(x * cos_t + y * sin_t) + diag_len).astype(int)\n",
    "        for i in range(len(rho)):\n",
    "            H[rho[i], i] += 1\n",
    "    \n",
    "    return (H, rhos, thetas)"
   ]
  }
 ],
 "metadata": {
  "kernelspec": {
   "display_name": "Python 3",
   "language": "python",
   "name": "python3"
  },
  "language_info": {
   "codemirror_mode": {
    "name": "ipython",
    "version": 3
   },
   "file_extension": ".py",
   "mimetype": "text/x-python",
   "name": "python",
   "nbconvert_exporter": "python",
   "pygments_lexer": "ipython3",
   "version": "3.6.3"
  }
 },
 "nbformat": 4,
 "nbformat_minor": 2
}
