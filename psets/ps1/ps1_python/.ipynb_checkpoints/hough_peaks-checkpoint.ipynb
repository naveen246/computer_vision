{
 "cells": [
  {
   "cell_type": "code",
   "execution_count": 1,
   "metadata": {
    "collapsed": true
   },
   "outputs": [],
   "source": [
    "import numpy as np\n",
    "import cv2"
   ]
  },
  {
   "cell_type": "code",
   "execution_count": 2,
   "metadata": {
    "collapsed": true
   },
   "outputs": [],
   "source": [
    "def nhood_range(num, nhood_size):\n",
    "    return max(0, num - nhood_size), num + nhood_size + 1\n",
    "\n",
    "def hough_peaks(H, numpeaks, threshold = 70, nhood_size = 10):\n",
    "    peaks = np.zeros((numpeaks, 2))\n",
    "    arr = H.copy()\n",
    "    for i in range(numpeaks):\n",
    "        min_val, max_val, min_loc, max_loc = cv2.minMaxLoc(arr)\n",
    "        if max_val >= threshold:\n",
    "            col, row = max_loc\n",
    "            peaks[i] = [row, col]\n",
    "            row_min, row_max = nhood_range(row, nhood_size)\n",
    "            col_min, col_max = nhood_range(col, nhood_size)\n",
    "            arr[row_min:row_max, col_min:col_max] = 0\n",
    "        else:\n",
    "            peaks = peaks[:i]\n",
    "            break\n",
    "    return peaks.astype(int)"
   ]
  }
 ],
 "metadata": {
  "kernelspec": {
   "display_name": "Python 3",
   "language": "python",
   "name": "python3"
  },
  "language_info": {
   "codemirror_mode": {
    "name": "ipython",
    "version": 3
   },
   "file_extension": ".py",
   "mimetype": "text/x-python",
   "name": "python",
   "nbconvert_exporter": "python",
   "pygments_lexer": "ipython3",
   "version": "3.6.3"
  }
 },
 "nbformat": 4,
 "nbformat_minor": 2
}
