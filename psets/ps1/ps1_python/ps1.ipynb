{
 "cells": [
  {
   "cell_type": "code",
   "execution_count": 1,
   "metadata": {},
   "outputs": [
    {
     "name": "stdout",
     "output_type": "stream",
     "text": [
      "Importing Jupyter notebook from util.ipynb\n",
      "Importing Jupyter notebook from hough_lines_acc.ipynb\n",
      "Importing Jupyter notebook from hough_peaks.ipynb\n"
     ]
    }
   ],
   "source": [
    "import nbimporter\n",
    "import util\n",
    "import cv2\n",
    "import numpy as np\n",
    "from hough_lines_acc import hough_lines_acc\n",
    "from hough_peaks import hough_peaks"
   ]
  },
  {
   "cell_type": "code",
   "execution_count": 2,
   "metadata": {},
   "outputs": [
    {
     "data": {
      "image/png": "[encoded data removed]",
      "text/plain": [
       "<matplotlib.figure.Figure at 0x11a546550>"
      ]
     },
     "metadata": {},
     "output_type": "display_data"
    }
   ],
   "source": [
    "img = util.read_img('ps1-input0.png')\n",
    "img_edges = cv2.Canny(img, 0, 0)\n",
    "util.write_img('ps1-1-a-1.png', img_edges)\n",
    "\n",
    "util.show_images_together(img, img_edges)"
   ]
  },
  {
   "cell_type": "code",
   "execution_count": 3,
   "metadata": {},
   "outputs": [
    {
     "data": {
      "image/png": "[encoded data removed]",
      "text/plain": [
       "<matplotlib.figure.Figure at 0x1230eb630>"
      ]
     },
     "metadata": {},
     "output_type": "display_data"
    },
    {
     "data": {
      "image/png": "[encoded data removed]",
      "text/plain": [
       "<matplotlib.figure.Figure at 0x123156cc0>"
      ]
     },
     "metadata": {},
     "output_type": "display_data"
    }
   ],
   "source": [
    "H, theta, rho = hough_lines_acc(img_edges)\n",
    "\n",
    "def normalize_accumulator(acc, normalized_min, normalized_max):\n",
    "    min_val = np.amin(acc)\n",
    "    max_val = np.amax(acc)\n",
    "    acc_range = max_val - min_val\n",
    "    if acc_range == 0: return acc\n",
    "    normalized_range = normalized_max - normalized_min\n",
    "    return normalized_min + (acc - min_val) * normalized_range / acc_range\n",
    "    \n",
    "normal_hough_acc = normalize_accumulator(H, 0, 255).astype('uint8')\n",
    "\n",
    "util.write_img('ps1-2-a-1.png', normal_hough_acc)\n",
    "util.show_img(normal_hough_acc)\n",
    "\n",
    "peaks = hough_peaks(normal_hough_acc, 10);\n",
    "hough_peaks = normal_hough_acc.copy()\n",
    "for peak in peaks:\n",
    "    hough_peaks = cv2.circle(hough_peaks, tuple(peak), 5, (255,255,255), -1)\n",
    "\n",
    "util.write_img('ps1-2-b-1.png', hough_peaks)\n",
    "util.show_img(hough_peaks)"
   ]
  },
  {
   "cell_type": "code",
   "execution_count": null,
   "metadata": {},
   "outputs": [],
   "source": []
  }
 ],
 "metadata": {
  "kernelspec": {
   "display_name": "Python 3",
   "language": "python",
   "name": "python3"
  },
  "language_info": {
   "codemirror_mode": {
    "name": "ipython",
    "version": 3
   },
   "file_extension": ".py",
   "mimetype": "text/x-python",
   "name": "python",
   "nbconvert_exporter": "python",
   "pygments_lexer": "ipython3",
   "version": "3.6.3"
  }
 },
 "nbformat": 4,
 "nbformat_minor": 2
}
