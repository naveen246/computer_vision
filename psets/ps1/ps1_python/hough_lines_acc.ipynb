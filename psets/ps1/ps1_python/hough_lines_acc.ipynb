{
 "cells": [
  {
   "cell_type": "code",
   "execution_count": 1,
   "metadata": {},
   "outputs": [
    {
     "name": "stdout",
     "output_type": "stream",
     "text": [
      "Importing Jupyter notebook from util.ipynb\n"
     ]
    }
   ],
   "source": [
    "import numpy as np\n",
    "import cv2\n",
    "import nbimporter\n",
    "import util"
   ]
  },
  {
   "cell_type": "code",
   "execution_count": 2,
   "metadata": {
    "collapsed": true
   },
   "outputs": [],
   "source": [
    "def hough_lines_acc(img, theta = range(-90, 90), rho_resolution = 1):\n",
    "    diag_len = util.img_diag_len(img)\n",
    "    rhos = np.arange(-diag_len, diag_len, rho_resolution)\n",
    "    thetas = np.deg2rad(theta)\n",
    "    H = np.zeros((len(rhos), len(thetas)))\n",
    "    \n",
    "    cos_t = np.cos(thetas)\n",
    "    sin_t = np.sin(thetas)\n",
    "    img_nonzeros = np.transpose(np.nonzero(img))\n",
    "    \n",
    "    for x, y in img_nonzeros:\n",
    "        rho = (np.round(x * cos_t + y * sin_t) + diag_len).astype(int)\n",
    "        for i in range(len(rho)):\n",
    "            H[rho[i], i] += 1\n",
    "            \n",
    "    cv2.normalize(H, H, 0, 255, cv2.NORM_MINMAX, dtype=cv2.CV_8UC1)\n",
    "    return (H, rhos, thetas)"
   ]
  },
  {
   "cell_type": "code",
   "execution_count": null,
   "metadata": {
    "collapsed": true
   },
   "outputs": [],
   "source": [
    "# def hough_lines_acc(img, theta = np.arange(-90, 90), rho_resolution = 1):\n",
    "#     #rho_res=1, thetas=np.arange(-90,90,1)):\n",
    "#     rho_res = rho_resolution\n",
    "#     thetas = theta\n",
    "#     rho_max = int(np.linalg.norm(img.shape-np.array([1,1]), 2));\n",
    "#     rhos = np.arange(-rho_max, rho_max, rho_res)\n",
    "#     thetas -= min(min(thetas),0)\n",
    "#     accumulator = np.zeros((len(rhos), len(thetas)), dtype=np.uint8)\n",
    "#     yis, xis = np.nonzero(img) # use only edge points\n",
    "#     for idx in range(len(xis)):\n",
    "#         x = xis[idx]\n",
    "#         y = yis[idx]\n",
    "#         temp_rhos = x * np.cos(np.deg2rad(thetas)) + y * np.sin(np.deg2rad(thetas))\n",
    "#         temp_rhos = temp_rhos / rho_res + rho_max\n",
    "#         m, n = accumulator.shape\n",
    "#         valid_idxs = np.nonzero((temp_rhos < m) & (thetas < n))\n",
    "#         temp_rhos = temp_rhos[valid_idxs]\n",
    "#         temp_thetas = thetas[valid_idxs]\n",
    "#         c = np.stack([temp_rhos,temp_thetas], 1)\n",
    "#         cc = np.ascontiguousarray(c).view(np.dtype((np.void, c.dtype.itemsize * c.shape[1])))\n",
    "#         _,idxs,counts = np.unique(cc, return_index=True, return_counts=True)\n",
    "#         uc = c[idxs].astype(np.uint)\n",
    "#         accumulator[uc[:,0], uc[:,1]] += counts.astype(np.uint)\n",
    "#     accumulator = cv2.normalize(accumulator, accumulator, 0, 255,\n",
    "#                                 cv2.NORM_MINMAX, dtype=cv2.CV_8UC1)\n",
    "#     return accumulator, rhos, thetas"
   ]
  }
 ],
 "metadata": {
  "kernelspec": {
   "display_name": "Python 3",
   "language": "python",
   "name": "python3"
  },
  "language_info": {
   "codemirror_mode": {
    "name": "ipython",
    "version": 3
   },
   "file_extension": ".py",
   "mimetype": "text/x-python",
   "name": "python",
   "nbconvert_exporter": "python",
   "pygments_lexer": "ipython3",
   "version": "3.6.3"
  }
 },
 "nbformat": 4,
 "nbformat_minor": 2
}
