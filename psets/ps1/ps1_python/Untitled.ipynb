{
 "cells": [
  {
   "cell_type": "code",
   "execution_count": 50,
   "metadata": {},
   "outputs": [
    {
     "name": "stdout",
     "output_type": "stream",
     "text": [
      "(3, 2)\n",
      "[ 0.  0.]\n",
      "[ 1.  2.]\n"
     ]
    },
    {
     "data": {
      "text/plain": [
       "(1.0, 2.0)"
      ]
     },
     "execution_count": 50,
     "metadata": {},
     "output_type": "execute_result"
    }
   ],
   "source": [
    "import numpy as np\n",
    "import cv2\n",
    "arr = np.array([[15, 14, 13, 12], [11, 10, 9, 8], [7, 6, 5, 17], [3, 2, 1 ,0]])\n",
    "\n",
    "peaks = np.zeros((3, 2))\n",
    "min_val, max_val, min_loc, max_loc = cv2.minMaxLoc(arr)\n",
    "# peaks[0] = max_loc\n",
    "print(max_loc)\n",
    "print(peaks[0])\n",
    "peaks[0] = (1,2)\n",
    "print(peaks[0])\n",
    "peaks[:2]\n",
    "tuple(peaks[0])"
   ]
  }
 ],
 "metadata": {
  "kernelspec": {
   "display_name": "Python 3",
   "language": "python",
   "name": "python3"
  },
  "language_info": {
   "codemirror_mode": {
    "name": "ipython",
    "version": 3
   },
   "file_extension": ".py",
   "mimetype": "text/x-python",
   "name": "python",
   "nbconvert_exporter": "python",
   "pygments_lexer": "ipython3",
   "version": "3.6.3"
  }
 },
 "nbformat": 4,
 "nbformat_minor": 2
}
