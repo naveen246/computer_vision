{
 "cells": [
  {
   "cell_type": "code",
   "execution_count": 52,
   "metadata": {},
   "outputs": [
    {
     "name": "stdout",
     "output_type": "stream",
     "text": [
      "Importing Jupyter notebook from util.ipynb\n"
     ]
    }
   ],
   "source": [
    "import numpy as np\n",
    "import cv2\n",
    "import nbimporter\n",
    "import util\n",
    "\n"
   ]
  },
  {
   "cell_type": "code",
   "execution_count": 53,
   "metadata": {},
   "outputs": [
    {
     "name": "stdout",
     "output_type": "stream",
     "text": [
      "(3, 2)\n",
      "[ 0.  0.]\n",
      "[ 1.  2.]\n"
     ]
    },
    {
     "data": {
      "text/plain": [
       "(1.0, 2.0)"
      ]
     },
     "execution_count": 53,
     "metadata": {},
     "output_type": "execute_result"
    }
   ],
   "source": [
    "arr = np.array([[15, 14, 13, 12], [11, 10, 9, 8], [7, 6, 5, 17], [3, 2, 1 ,0]])\n",
    "\n",
    "peaks = np.zeros((3, 2))\n",
    "min_val, max_val, min_loc, max_loc = cv2.minMaxLoc(arr)\n",
    "# peaks[0] = max_loc\n",
    "print(max_loc)\n",
    "print(peaks[0])\n",
    "peaks[0] = (1,2)\n",
    "print(peaks[0])\n",
    "peaks[:2]\n",
    "tuple(peaks[0])"
   ]
  },
  {
   "cell_type": "code",
   "execution_count": 60,
   "metadata": {},
   "outputs": [
    {
     "data": {
      "image/png": "[encoded data removed]",
      "text/plain": [
       "<matplotlib.figure.Figure at 0x112211ba8>"
      ]
     },
     "metadata": {},
     "output_type": "display_data"
    },
    {
     "data": {
      "text/plain": [
       "512"
      ]
     },
     "execution_count": 60,
     "metadata": {},
     "output_type": "execute_result"
    }
   ],
   "source": [
    "img = np.zeros((512,512,3), np.uint8)\n",
    "cv2.circle(img,(447,100), 63, (0,0,255), -1)\n",
    "cv2.line(img,(400,0),(400,511),(255,0,0),5)\n",
    "util.show_img(img)\n",
    "max(img.shape)"
   ]
  }
 ],
 "metadata": {
  "kernelspec": {
   "display_name": "Python 3",
   "language": "python",
   "name": "python3"
  },
  "language_info": {
   "codemirror_mode": {
    "name": "ipython",
    "version": 3
   },
   "file_extension": ".py",
   "mimetype": "text/x-python",
   "name": "python",
   "nbconvert_exporter": "python",
   "pygments_lexer": "ipython3",
   "version": "3.6.3"
  }
 },
 "nbformat": 4,
 "nbformat_minor": 2
}
