{
 "cells": [
  {
   "cell_type": "code",
   "execution_count": 2,
   "metadata": {
    "collapsed": true
   },
   "outputs": [],
   "source": [
    "import numpy as np"
   ]
  },
  {
   "cell_type": "code",
   "execution_count": 14,
   "metadata": {},
   "outputs": [
    {
     "name": "stdout",
     "output_type": "stream",
     "text": [
      "[[19 19 17  4  3 12  2 16 15 13 10]\n",
      " [12 14  6  9 15  6  2 18  8  2 11]\n",
      " [14 11  4 18 19 14 16  2  6 12 14]\n",
      " [ 7 15  8  8 15 19 10  8 18 12  1]\n",
      " [15  9 17 12 10 13 12 15  3  1  3]\n",
      " [17 13  6 18  8  2 18 12  1 18  9]\n",
      " [14 16 12 16  6 14 12 15 11 15 16]\n",
      " [ 1  3  1  6  2 11 12  5  5  5 11]] [ 0.  0.  0.  0.  0.  0.  0.  0.]\n",
      "\n",
      "[[19 19 17  4  3 12  2 16 15 13 10]\n",
      " [14 11  4 18 19 14 16  2  6 12 14]\n",
      " [15  9 17 12 10 13 12 15  3  1  3]\n",
      " [14 16 12 16  6 14 12 15 11 15 16]]\n",
      "\n",
      "[[12 14  6  9 15  6  2 18  8  2 11]\n",
      " [ 7 15  8  8 15 19 10  8 18 12  1]\n",
      " [17 13  6 18  8  2 18 12  1 18  9]\n",
      " [ 1  3  1  6  2 11 12  5  5  5 11]]\n"
     ]
    }
   ],
   "source": [
    "num_pts = 4\n",
    "A = np.random.randint(1, high=20, size=(2*num_pts,11))\n",
    "b = np.zeros(2*num_pts, dtype=np.float32)\n",
    "print(A, b)\n",
    "print()\n",
    "print(A[::2,:])\n",
    "print()\n",
    "print(A[1::2,:])"
   ]
  },
  {
   "cell_type": "code",
   "execution_count": 18,
   "metadata": {},
   "outputs": [
    {
     "name": "stdout",
     "output_type": "stream",
     "text": [
      "[[ 0.  1.]\n",
      " [ 1.  1.]\n",
      " [ 2.  1.]\n",
      " [ 3.  1.]]\n",
      "[ 1.  1.  1.  1.]\n",
      "[[ 0.  1.  2.  3.]\n",
      " [ 1.  1.  1.  1.]]\n"
     ]
    }
   ],
   "source": [
    "x = np.array([0, 1, 2, 3])\n",
    "y = np.array([-1, 0.2, 0.9, 2.1])\n",
    "print(np.vstack([x, np.ones(len(x))]).T)\n",
    "print(np.ones(len(x)))\n",
    "print(np.vstack([x, np.ones(len(x))]))"
   ]
  },
  {
   "cell_type": "code",
   "execution_count": 58,
   "metadata": {},
   "outputs": [
    {
     "name": "stdout",
     "output_type": "stream",
     "text": [
      "[2 3 1]\n",
      "\n",
      "[[0 4]\n",
      " [2 6]]\n",
      "[ 0.  1.  2.  3.]\n",
      "[ 0.  1.  2.  3.]\n"
     ]
    }
   ],
   "source": [
    "pts_2d = np.array([[0, 1], [2, 3]])\n",
    "x = pts_2d[:,0]\n",
    "y = pts_2d[:,1]\n",
    "print(np.append(pts_2d[-1], 1))\n",
    "print()\n",
    "a = np.array([1,2])\n",
    "b = np.array([3,4])\n",
    "print(2 * pts_2d.T)\n",
    "num_pts = pts_2d.shape[0]\n",
    "b = np.zeros(2*num_pts, dtype=np.float32)\n",
    "b[::2] = x\n",
    "b[1::2] = y\n",
    "print(b)\n",
    "print(pts_2d.flatten().astype('float32'))"
   ]
  },
  {
   "cell_type": "code",
   "execution_count": 36,
   "metadata": {},
   "outputs": [
    {
     "data": {
      "text/plain": [
       "(array([ 1.  , -0.95]), array([ 0.05]), 2, array([ 4.10003045,  1.09075677]))"
      ]
     },
     "execution_count": 36,
     "metadata": {},
     "output_type": "execute_result"
    }
   ],
   "source": [
    "x = np.array([0, 1, 2, 3])\n",
    "y = np.array([-1, 0.2, 0.9, 2.1])\n",
    "A = np.vstack([x, np.ones(len(x))]).T\n",
    "np.linalg.lstsq(A, y)"
   ]
  },
  {
   "cell_type": "code",
   "execution_count": 69,
   "metadata": {},
   "outputs": [
    {
     "name": "stdout",
     "output_type": "stream",
     "text": [
      "[2, 9, 7, 5, 3]\n",
      "{0, 1, 4, 6, 8}\n",
      "[0, 8, 4, 1]\n"
     ]
    }
   ],
   "source": [
    "import random\n",
    "num_pts = 10\n",
    "num_calibration_pts = 5\n",
    "num_test_pts = 4\n",
    "idxs = random.sample(range(num_pts), num_calibration_pts)\n",
    "print(idxs)\n",
    "test_idxs = set(range(num_pts)) - set(idxs)\n",
    "print(test_idxs)\n",
    "test_idxs = random.sample(test_idxs, num_test_pts)\n",
    "print(test_idxs)"
   ]
  },
  {
   "cell_type": "code",
   "execution_count": 73,
   "metadata": {},
   "outputs": [
    {
     "name": "stdout",
     "output_type": "stream",
     "text": [
      "[1, 0]\n"
     ]
    }
   ],
   "source": [
    "a = b = [0, 0]\n",
    "a[0] = 1\n",
    "print(b)"
   ]
  },
  {
   "cell_type": "code",
   "execution_count": 85,
   "metadata": {},
   "outputs": [
    {
     "name": "stdout",
     "output_type": "stream",
     "text": [
      "[[-3 -4]\n",
      " [-3 -4]\n",
      " [-3 -4]]\n"
     ]
    },
    {
     "data": {
      "text/plain": [
       "8.6602540378443873"
      ]
     },
     "execution_count": 85,
     "metadata": {},
     "output_type": "execute_result"
    }
   ],
   "source": [
    "a = np.array([[1,2], [1,2], [1,2]])\n",
    "b = np.array([[4,6], [4,6], [4,6]])\n",
    "print(a-b)\n",
    "np.linalg.norm(a - b)"
   ]
  }
 ],
 "metadata": {
  "kernelspec": {
   "display_name": "Python 3",
   "language": "python",
   "name": "python3"
  },
  "language_info": {
   "codemirror_mode": {
    "name": "ipython",
    "version": 3
   },
   "file_extension": ".py",
   "mimetype": "text/x-python",
   "name": "python",
   "nbconvert_exporter": "python",
   "pygments_lexer": "ipython3",
   "version": "3.6.3"
  }
 },
 "nbformat": 4,
 "nbformat_minor": 2
}
