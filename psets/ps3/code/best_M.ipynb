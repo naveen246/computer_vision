{
 "cells": [
  {
   "cell_type": "code",
   "execution_count": null,
   "metadata": {
    "collapsed": true
   },
   "outputs": [],
   "source": [
    "import numpy as np\n",
    "import random\n",
    "import nbimporter\n",
    "from least_squares_M_solver import *\n",
    "from svd_M_solver import *"
   ]
  },
  {
   "cell_type": "code",
   "execution_count": null,
   "metadata": {
    "collapsed": true
   },
   "outputs": [],
   "source": [
    "# Predict 2d points by multiplying M and 3d points\n",
    "def predict_pts(M, actual_pts_3d):\n",
    "    predicted_pts_2d = np.array([np.dot(M, np.append(pt_3d,1)) for pt_3d in actual_pts_3d])\n",
    "    # homogeneous 2D point < us, vs, s > to its inhomogeneous version by dividing by s\n",
    "    predicted_pts_2d = predicted_pts_2d[:,:2] / predicted_pts_2d[:,2:]\n",
    "    return predicted_pts_2d\n",
    "\n",
    "# Calculate distance between actual and predicted 2d points\n",
    "def dist_between(actual_pts_2d, predicted_pts_2d):\n",
    "    return np.linalg.norm(actual_pts_2d - predicted_pts_2d)\n",
    "\n",
    "# Calculate M for given number of calibration points for given iterations and select M with minimum residual \n",
    "def best_M(pts_2d, pts_3d, num_calibration_pts, num_test_pts, iterations):\n",
    "    num_pts = pts_2d.shape[0]\n",
    "    M = np.zeros((3,4), dtype=np.float32)\n",
    "    residual = 1e9\n",
    "    for iter in range(iterations):\n",
    "        idxs = random.sample(range(num_pts), num_calibration_pts)\n",
    "        M_tmp,_ = least_squares_M_solver(pts_2d[idxs], pts_3d[idxs])\n",
    "        #  M_tmp = svd_M_solver(pts_2d[idxs], pts_3d[idxs])\n",
    "        \n",
    "        test_idxs = set(range(num_pts)) - set(idxs)\n",
    "        test_idxs = random.sample(test_idxs, num_test_pts)\n",
    "        \n",
    "        predicted_pts_2d = predict_pts(M_tmp, pts_3d[test_idxs])\n",
    "        residual_tmp = dist_between(pts_2d[test_idxs], predicted_pts_2d)\n",
    "        if residual_tmp < residual:\n",
    "            residual = residual_tmp\n",
    "            M = M_tmp\n",
    "    return M, residual"
   ]
  }
 ],
 "metadata": {
  "kernelspec": {
   "display_name": "Python 3",
   "language": "python",
   "name": "python3"
  },
  "language_info": {
   "codemirror_mode": {
    "name": "ipython",
    "version": 3
   },
   "file_extension": ".py",
   "mimetype": "text/x-python",
   "name": "python",
   "nbconvert_exporter": "python",
   "pygments_lexer": "ipython3",
   "version": "3.6.3"
  }
 },
 "nbformat": 4,
 "nbformat_minor": 2
}
