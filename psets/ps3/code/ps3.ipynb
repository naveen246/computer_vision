{
 "cells": [
  {
   "cell_type": "code",
   "execution_count": 1,
   "metadata": {},
   "outputs": [
    {
     "name": "stdout",
     "output_type": "stream",
     "text": [
      "Importing Jupyter notebook from util.ipynb\n",
      "Importing Jupyter notebook from least_squares_M_solver.ipynb\n",
      "Importing Jupyter notebook from svd_M_solver.ipynb\n"
     ]
    }
   ],
   "source": [
    "import cv2\n",
    "import numpy as np\n",
    "import nbimporter\n",
    "import util\n",
    "from least_squares_M_solver import *\n",
    "from svd_M_solver import *"
   ]
  },
  {
   "cell_type": "code",
   "execution_count": 2,
   "metadata": {},
   "outputs": [
    {
     "name": "stdout",
     "output_type": "stream",
     "text": [
      "Results with least squares:\n",
      "M=\n",
      "[[ 0.76785833 -0.49384797 -0.02339789  0.00674443]\n",
      " [-0.08521339 -0.09146819 -0.90652329 -0.08775678]\n",
      " [ 0.18265015  0.2988292  -0.07419244  1.        ]]\n",
      "Point [ 0.1406     -0.45269999] projected to point [ 0.14190583 -0.45183984]\n",
      "Residual: 0.0016\n",
      "\n",
      "Results with SVD:\n",
      "M=\n",
      "[[ 0.45827553 -0.29474238 -0.0139575   0.00402579]\n",
      " [-0.05085589 -0.05458471 -0.54105991 -0.05237592]\n",
      " [ 0.10900958  0.1783455  -0.04426783  0.59682047]]\n",
      "Point [ 0.1406     -0.45269999] projected to point [ 0.14190602 -0.451843  ]\n",
      "Residual: 0.0016\n",
      "\n"
     ]
    }
   ],
   "source": [
    "# Estimate camera projection matrix\n",
    "def ps3_1a():\n",
    "    pts_2d = util.load_file('pts2d-norm-pic_a.txt')\n",
    "    pts_3d = util.load_file('pts3d-norm.txt')\n",
    "    \n",
    "    # test results using a least squares solver\n",
    "    M, res = least_squares_M_solver(pts_2d, pts_3d)\n",
    "    pt_2d_proj = np.dot(M, np.append(pts_3d[-1],1))\n",
    "    pt_2d_proj = pt_2d_proj[:2] / pt_2d_proj[2]\n",
    "    res = np.linalg.norm(pts_2d[-1] - pt_2d_proj)\n",
    "    print('Results with least squares:')\n",
    "    print('M=\\n%s'%M)\n",
    "    print('Point %s projected to point %s'%(pts_2d[-1] ,pt_2d_proj))\n",
    "    print('Residual: %.4f\\n'%res)\n",
    "    \n",
    "    # test results using SVD solver\n",
    "    M = svd_M_solver(pts_2d, pts_3d)\n",
    "    pt_2d_proj = np.dot(M, np.append(pts_3d[-1],1))\n",
    "    pt_2d_proj = pt_2d_proj[:2] / pt_2d_proj[2]\n",
    "    res = np.linalg.norm(pts_2d[-1] - pt_2d_proj)\n",
    "    print('Results with SVD:')\n",
    "    print('M=\\n%s'%M)\n",
    "    print('Point %s projected to point %s'%(pts_2d[-1] ,pt_2d_proj))\n",
    "    print('Residual: %.4f\\n'%res)\n",
    "    \n",
    "ps3_1a()"
   ]
  }
 ],
 "metadata": {
  "kernelspec": {
   "display_name": "Python 3",
   "language": "python",
   "name": "python3"
  },
  "language_info": {
   "codemirror_mode": {
    "name": "ipython",
    "version": 3
   },
   "file_extension": ".py",
   "mimetype": "text/x-python",
   "name": "python",
   "nbconvert_exporter": "python",
   "pygments_lexer": "ipython3",
   "version": "3.6.3"
  }
 },
 "nbformat": 4,
 "nbformat_minor": 2
}
