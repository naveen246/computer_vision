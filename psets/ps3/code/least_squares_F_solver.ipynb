{
 "cells": [
  {
   "cell_type": "code",
   "execution_count": null,
   "metadata": {
    "collapsed": true
   },
   "outputs": [],
   "source": [
    "import numpy as np"
   ]
  },
  {
   "cell_type": "code",
   "execution_count": null,
   "metadata": {
    "collapsed": true
   },
   "outputs": [],
   "source": [
    "def least_squares_F_solver(pts_a, pts_b):\n",
    "    num_pts = pts_a.shape[0]\n",
    "    ua = pts_a[:,0]\n",
    "    va = pts_a[:,1]\n",
    "    ub = pts_b[:,0]\n",
    "    vb = pts_b[:,1]\n",
    "    \n",
    "    A = np.column_stack((ua*ub, va*ub, ub, ua*vb, va*vb, vb, ua, va))\n",
    "    b = -np.ones(num_pts)\n",
    "    \n",
    "    F = np.linalg.lstsq(A, b)[0]\n",
    "    F = np.append(F, 1)\n",
    "    F = F.reshape((3,3))\n",
    "    return F"
   ]
  }
 ],
 "metadata": {
  "kernelspec": {
   "display_name": "Python 3",
   "language": "python",
   "name": "python3"
  },
  "language_info": {
   "codemirror_mode": {
    "name": "ipython",
    "version": 3
   },
   "file_extension": ".py",
   "mimetype": "text/x-python",
   "name": "python",
   "nbconvert_exporter": "python",
   "pygments_lexer": "ipython3",
   "version": "3.6.3"
  }
 },
 "nbformat": 4,
 "nbformat_minor": 2
}
