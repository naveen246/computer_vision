{
 "cells": [
  {
   "cell_type": "code",
   "execution_count": 1,
   "metadata": {},
   "outputs": [],
   "source": [
    "import numpy as np "
   ]
  },
  {
   "cell_type": "code",
   "execution_count": 2,
   "metadata": {
    "collapsed": true
   },
   "outputs": [],
   "source": [
    "def least_squares_M_solver(pts_2d, pts_3d):\n",
    "    num_pts = pts_2d.shape[0]\n",
    "    A = np.zeros((2*num_pts,11), dtype=np.float32)\n",
    "    u, v = pts_2d.T\n",
    "    X, Y, Z = pts_3d.T\n",
    "    uX, uY, uZ = u * np.array([X, Y, Z])\n",
    "    vX, vY, vZ = v * np.array([X, Y, Z])\n",
    "    \n",
    "    for i in range(num_pts):\n",
    "        A[i * 2] = [X[i], Y[i], Z[i], 1, 0, 0, 0, 0, -uX[i], -uY[i], -uZ[i]]\n",
    "        A[i * 2 + 1] = [0, 0, 0, 0, X[i], Y[i], Z[i], 1, -vX[i], -vY[i], -vZ[i]]\n",
    "        \n",
    "    b = pts_2d.flatten().astype('float32')\n",
    "    M,res,_,_ = np.linalg.lstsq(A, b)\n",
    "    M = np.append(M, 1)\n",
    "    M = M.reshape((3,4))\n",
    "    return M, res"
   ]
  },
  {
   "cell_type": "code",
   "execution_count": null,
   "metadata": {},
   "outputs": [],
   "source": []
  }
 ],
 "metadata": {
  "kernelspec": {
   "display_name": "Python 3",
   "language": "python",
   "name": "python3"
  },
  "language_info": {
   "codemirror_mode": {
    "name": "ipython",
    "version": 3
   },
   "file_extension": ".py",
   "mimetype": "text/x-python",
   "name": "python",
   "nbconvert_exporter": "python",
   "pygments_lexer": "ipython3",
   "version": "3.6.3"
  }
 },
 "nbformat": 4,
 "nbformat_minor": 2
}
