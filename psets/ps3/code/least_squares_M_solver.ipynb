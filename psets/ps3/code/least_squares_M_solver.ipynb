{
 "cells": [
  {
   "cell_type": "code",
   "execution_count": null,
   "metadata": {
    "collapsed": true
   },
   "outputs": [],
   "source": [
    "import numpy as np"
   ]
  },
  {
   "cell_type": "code",
   "execution_count": null,
   "metadata": {
    "collapsed": true
   },
   "outputs": [],
   "source": [
    "def least_squares_M_solver(pts_2d, pts_3d):\n",
    "    #  M = np.zeros((12,1), dtype=np.float32)\n",
    "    num_pts = pts_2d.shape[0]\n",
    "    A = np.zeros((2*num_pts,11), dtype=np.float32)\n",
    "    b = np.zeros(2*num_pts, dtype=np.float32)\n",
    "    x = pts_2d[:,0]\n",
    "    y = pts_2d[:,1]\n",
    "    X = pts_3d[:,0]\n",
    "    Y = pts_3d[:,1]\n",
    "    Z = pts_3d[:,2]\n",
    "    #  for i in range(num_pts):\n",
    "    zeros = np.zeros(num_pts)\n",
    "    ones = np.ones(num_pts)\n",
    "    A[::2,:]   = np.column_stack((X, Y, Z, ones, zeros, zeros, zeros, zeros, -x*X, -x*Y, -x*Z))\n",
    "    A[1::2,:] = np.column_stack((zeros, zeros, zeros, zeros, X, Y, Z, ones, -y*X, -y*Y, -y*Z))\n",
    "    b[::2] = x\n",
    "    b[1::2] = y\n",
    "    M,res,_,_ = np.linalg.lstsq(A, b)\n",
    "    M = np.append(M, 1)\n",
    "    M = M.reshape((3,4))\n",
    "    return M, res"
   ]
  }
 ],
 "metadata": {
  "kernelspec": {
   "display_name": "Python 3",
   "language": "python",
   "name": "python3"
  },
  "language_info": {
   "codemirror_mode": {
    "name": "ipython",
    "version": 3
   },
   "file_extension": ".py",
   "mimetype": "text/x-python",
   "name": "python",
   "nbconvert_exporter": "python",
   "pygments_lexer": "ipython3",
   "version": "3.6.3"
  }
 },
 "nbformat": 4,
 "nbformat_minor": 2
}
